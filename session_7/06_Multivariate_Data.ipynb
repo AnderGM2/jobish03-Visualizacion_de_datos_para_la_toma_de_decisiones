{
 "cells": [
  {
   "cell_type": "markdown",
   "id": "8b4e1e90",
   "metadata": {},
   "source": [
    "## How to select dataframe subsets from multivariate data"
   ]
  },
  {
   "cell_type": "code",
   "execution_count": 1,
   "id": "4fe2eb1a",
   "metadata": {},
   "outputs": [],
   "source": [
    "import numpy as np\n",
    "import pandas as pd\n",
    "pd.set_option('display.max_columns', 100) # Show all columns when looking at dataframe"
   ]
  },
  {
   "cell_type": "code",
   "execution_count": 3,
   "id": "68fea0c6",
   "metadata": {},
   "outputs": [],
   "source": [
    "# Download NHANES 2015-2016 data\n",
    "df = pd.read_csv(\"datasets/nhanes_2015_2016.csv\")"
   ]
  },
  {
   "cell_type": "code",
   "execution_count": 4,
   "id": "1df38fe8",
   "metadata": {},
   "outputs": [
    {
     "data": {
      "text/html": [
       "<div>\n",
       "<style scoped>\n",
       "    .dataframe tbody tr th:only-of-type {\n",
       "        vertical-align: middle;\n",
       "    }\n",
       "\n",
       "    .dataframe tbody tr th {\n",
       "        vertical-align: top;\n",
       "    }\n",
       "\n",
       "    .dataframe thead th {\n",
       "        text-align: right;\n",
       "    }\n",
       "</style>\n",
       "<table border=\"1\" class=\"dataframe\">\n",
       "  <thead>\n",
       "    <tr style=\"text-align: right;\">\n",
       "      <th></th>\n",
       "      <th>SEQN</th>\n",
       "      <th>ALQ101</th>\n",
       "      <th>ALQ110</th>\n",
       "      <th>ALQ130</th>\n",
       "      <th>SMQ020</th>\n",
       "      <th>RIAGENDR</th>\n",
       "      <th>RIDAGEYR</th>\n",
       "      <th>RIDRETH1</th>\n",
       "      <th>DMDCITZN</th>\n",
       "      <th>DMDEDUC2</th>\n",
       "      <th>DMDMARTL</th>\n",
       "      <th>DMDHHSIZ</th>\n",
       "      <th>WTINT2YR</th>\n",
       "      <th>SDMVPSU</th>\n",
       "      <th>SDMVSTRA</th>\n",
       "      <th>INDFMPIR</th>\n",
       "      <th>BPXSY1</th>\n",
       "      <th>BPXDI1</th>\n",
       "      <th>BPXSY2</th>\n",
       "      <th>BPXDI2</th>\n",
       "      <th>BMXWT</th>\n",
       "      <th>BMXHT</th>\n",
       "      <th>BMXBMI</th>\n",
       "      <th>BMXLEG</th>\n",
       "      <th>BMXARML</th>\n",
       "      <th>BMXARMC</th>\n",
       "      <th>BMXWAIST</th>\n",
       "      <th>HIQ210</th>\n",
       "    </tr>\n",
       "  </thead>\n",
       "  <tbody>\n",
       "    <tr>\n",
       "      <th>0</th>\n",
       "      <td>83732</td>\n",
       "      <td>1.0</td>\n",
       "      <td>NaN</td>\n",
       "      <td>1.0</td>\n",
       "      <td>1</td>\n",
       "      <td>1</td>\n",
       "      <td>62</td>\n",
       "      <td>3</td>\n",
       "      <td>1.0</td>\n",
       "      <td>5.0</td>\n",
       "      <td>1.0</td>\n",
       "      <td>2</td>\n",
       "      <td>134671.37</td>\n",
       "      <td>1</td>\n",
       "      <td>125</td>\n",
       "      <td>4.39</td>\n",
       "      <td>128.0</td>\n",
       "      <td>70.0</td>\n",
       "      <td>124.0</td>\n",
       "      <td>64.0</td>\n",
       "      <td>94.8</td>\n",
       "      <td>184.5</td>\n",
       "      <td>27.8</td>\n",
       "      <td>43.3</td>\n",
       "      <td>43.6</td>\n",
       "      <td>35.9</td>\n",
       "      <td>101.1</td>\n",
       "      <td>2.0</td>\n",
       "    </tr>\n",
       "    <tr>\n",
       "      <th>1</th>\n",
       "      <td>83733</td>\n",
       "      <td>1.0</td>\n",
       "      <td>NaN</td>\n",
       "      <td>6.0</td>\n",
       "      <td>1</td>\n",
       "      <td>1</td>\n",
       "      <td>53</td>\n",
       "      <td>3</td>\n",
       "      <td>2.0</td>\n",
       "      <td>3.0</td>\n",
       "      <td>3.0</td>\n",
       "      <td>1</td>\n",
       "      <td>24328.56</td>\n",
       "      <td>1</td>\n",
       "      <td>125</td>\n",
       "      <td>1.32</td>\n",
       "      <td>146.0</td>\n",
       "      <td>88.0</td>\n",
       "      <td>140.0</td>\n",
       "      <td>88.0</td>\n",
       "      <td>90.4</td>\n",
       "      <td>171.4</td>\n",
       "      <td>30.8</td>\n",
       "      <td>38.0</td>\n",
       "      <td>40.0</td>\n",
       "      <td>33.2</td>\n",
       "      <td>107.9</td>\n",
       "      <td>NaN</td>\n",
       "    </tr>\n",
       "    <tr>\n",
       "      <th>2</th>\n",
       "      <td>83734</td>\n",
       "      <td>1.0</td>\n",
       "      <td>NaN</td>\n",
       "      <td>NaN</td>\n",
       "      <td>1</td>\n",
       "      <td>1</td>\n",
       "      <td>78</td>\n",
       "      <td>3</td>\n",
       "      <td>1.0</td>\n",
       "      <td>3.0</td>\n",
       "      <td>1.0</td>\n",
       "      <td>2</td>\n",
       "      <td>12400.01</td>\n",
       "      <td>1</td>\n",
       "      <td>131</td>\n",
       "      <td>1.51</td>\n",
       "      <td>138.0</td>\n",
       "      <td>46.0</td>\n",
       "      <td>132.0</td>\n",
       "      <td>44.0</td>\n",
       "      <td>83.4</td>\n",
       "      <td>170.1</td>\n",
       "      <td>28.8</td>\n",
       "      <td>35.6</td>\n",
       "      <td>37.0</td>\n",
       "      <td>31.0</td>\n",
       "      <td>116.5</td>\n",
       "      <td>2.0</td>\n",
       "    </tr>\n",
       "    <tr>\n",
       "      <th>3</th>\n",
       "      <td>83735</td>\n",
       "      <td>2.0</td>\n",
       "      <td>1.0</td>\n",
       "      <td>1.0</td>\n",
       "      <td>2</td>\n",
       "      <td>2</td>\n",
       "      <td>56</td>\n",
       "      <td>3</td>\n",
       "      <td>1.0</td>\n",
       "      <td>5.0</td>\n",
       "      <td>6.0</td>\n",
       "      <td>1</td>\n",
       "      <td>102718.00</td>\n",
       "      <td>1</td>\n",
       "      <td>131</td>\n",
       "      <td>5.00</td>\n",
       "      <td>132.0</td>\n",
       "      <td>72.0</td>\n",
       "      <td>134.0</td>\n",
       "      <td>68.0</td>\n",
       "      <td>109.8</td>\n",
       "      <td>160.9</td>\n",
       "      <td>42.4</td>\n",
       "      <td>38.5</td>\n",
       "      <td>37.7</td>\n",
       "      <td>38.3</td>\n",
       "      <td>110.1</td>\n",
       "      <td>2.0</td>\n",
       "    </tr>\n",
       "    <tr>\n",
       "      <th>4</th>\n",
       "      <td>83736</td>\n",
       "      <td>2.0</td>\n",
       "      <td>1.0</td>\n",
       "      <td>1.0</td>\n",
       "      <td>2</td>\n",
       "      <td>2</td>\n",
       "      <td>42</td>\n",
       "      <td>4</td>\n",
       "      <td>1.0</td>\n",
       "      <td>4.0</td>\n",
       "      <td>3.0</td>\n",
       "      <td>5</td>\n",
       "      <td>17627.67</td>\n",
       "      <td>2</td>\n",
       "      <td>126</td>\n",
       "      <td>1.23</td>\n",
       "      <td>100.0</td>\n",
       "      <td>70.0</td>\n",
       "      <td>114.0</td>\n",
       "      <td>54.0</td>\n",
       "      <td>55.2</td>\n",
       "      <td>164.9</td>\n",
       "      <td>20.3</td>\n",
       "      <td>37.4</td>\n",
       "      <td>36.0</td>\n",
       "      <td>27.2</td>\n",
       "      <td>80.4</td>\n",
       "      <td>2.0</td>\n",
       "    </tr>\n",
       "  </tbody>\n",
       "</table>\n",
       "</div>"
      ],
      "text/plain": [
       "    SEQN  ALQ101  ALQ110  ALQ130  SMQ020  RIAGENDR  RIDAGEYR  RIDRETH1  \\\n",
       "0  83732     1.0     NaN     1.0       1         1        62         3   \n",
       "1  83733     1.0     NaN     6.0       1         1        53         3   \n",
       "2  83734     1.0     NaN     NaN       1         1        78         3   \n",
       "3  83735     2.0     1.0     1.0       2         2        56         3   \n",
       "4  83736     2.0     1.0     1.0       2         2        42         4   \n",
       "\n",
       "   DMDCITZN  DMDEDUC2  DMDMARTL  DMDHHSIZ   WTINT2YR  SDMVPSU  SDMVSTRA  \\\n",
       "0       1.0       5.0       1.0         2  134671.37        1       125   \n",
       "1       2.0       3.0       3.0         1   24328.56        1       125   \n",
       "2       1.0       3.0       1.0         2   12400.01        1       131   \n",
       "3       1.0       5.0       6.0         1  102718.00        1       131   \n",
       "4       1.0       4.0       3.0         5   17627.67        2       126   \n",
       "\n",
       "   INDFMPIR  BPXSY1  BPXDI1  BPXSY2  BPXDI2  BMXWT  BMXHT  BMXBMI  BMXLEG  \\\n",
       "0      4.39   128.0    70.0   124.0    64.0   94.8  184.5    27.8    43.3   \n",
       "1      1.32   146.0    88.0   140.0    88.0   90.4  171.4    30.8    38.0   \n",
       "2      1.51   138.0    46.0   132.0    44.0   83.4  170.1    28.8    35.6   \n",
       "3      5.00   132.0    72.0   134.0    68.0  109.8  160.9    42.4    38.5   \n",
       "4      1.23   100.0    70.0   114.0    54.0   55.2  164.9    20.3    37.4   \n",
       "\n",
       "   BMXARML  BMXARMC  BMXWAIST  HIQ210  \n",
       "0     43.6     35.9     101.1     2.0  \n",
       "1     40.0     33.2     107.9     NaN  \n",
       "2     37.0     31.0     116.5     2.0  \n",
       "3     37.7     38.3     110.1     2.0  \n",
       "4     36.0     27.2      80.4     2.0  "
      ]
     },
     "execution_count": 4,
     "metadata": {},
     "output_type": "execute_result"
    }
   ],
   "source": [
    "df.head()"
   ]
  },
  {
   "cell_type": "markdown",
   "id": "f452971f",
   "metadata": {},
   "source": [
    "### Keep only body measures columns, so only columns with \"BMX\" in the name"
   ]
  },
  {
   "cell_type": "code",
   "execution_count": null,
   "id": "4ee2a2d1",
   "metadata": {},
   "outputs": [],
   "source": [
    "# get columns names\n",
    "col_names = df.columns\n",
    "col_names"
   ]
  },
  {
   "cell_type": "code",
   "execution_count": null,
   "id": "f722f751",
   "metadata": {},
   "outputs": [],
   "source": [
    "# One way to get the column names we want to keep is simply by copying from the above output and storing in a list\n",
    "keep = ['BMXWT', 'BMXHT', 'BMXBMI', 'BMXLEG', 'BMXARML', 'BMXARMC',\n",
    "       'BMXWAIST']"
   ]
  },
  {
   "cell_type": "code",
   "execution_count": null,
   "id": "e3a5b44e",
   "metadata": {},
   "outputs": [],
   "source": [
    "# Another way to get only column names that include 'BMX' is with list comprehension\n",
    "# [keep x for x in list if condition met]\n",
    "[column for column in col_names if 'BMX' in column]"
   ]
  },
  {
   "cell_type": "code",
   "execution_count": null,
   "id": "21c54699",
   "metadata": {},
   "outputs": [],
   "source": [
    "keep = [column for column in col_names if 'BMX' in column]"
   ]
  },
  {
   "cell_type": "code",
   "execution_count": null,
   "id": "7ec56c21",
   "metadata": {},
   "outputs": [],
   "source": [
    "# use [] notation to keep columns\n",
    "df_BMX = df[keep]"
   ]
  },
  {
   "cell_type": "code",
   "execution_count": null,
   "id": "f2167238",
   "metadata": {},
   "outputs": [],
   "source": [
    "df_BMX.head()"
   ]
  },
  {
   "cell_type": "markdown",
   "id": "e6baca52",
   "metadata": {},
   "source": [
    "There are two methods for selecting by row and column. \n",
    "# link for pandas cheat sheets\n",
    "* df.loc[row labels or bool, col labels or bool]\n",
    "* df.iloc[row int or bool, col int or bool]\n",
    "\n",
    "### [From pandas docs](https://pandas.pydata.org/pandas-docs/stable/indexing.html]):  \n",
    "* [ ] column indexing\n",
    "* .loc is primarily label based, but may also be used with a boolean array.   \n",
    "* .iloc is primarily integer position based (from 0 to length-1 of the axis), but may also be used with a boolean array."
   ]
  },
  {
   "cell_type": "code",
   "execution_count": null,
   "id": "52a24051",
   "metadata": {},
   "outputs": [],
   "source": [
    "df.loc[:, keep].head()"
   ]
  },
  {
   "cell_type": "code",
   "execution_count": null,
   "id": "697c70d0",
   "metadata": {},
   "outputs": [],
   "source": [
    "index_bool = np.isin(df.columns, keep)"
   ]
  },
  {
   "cell_type": "code",
   "execution_count": null,
   "id": "9276bdaf",
   "metadata": {},
   "outputs": [],
   "source": [
    "index_bool "
   ]
  },
  {
   "cell_type": "code",
   "execution_count": null,
   "id": "14bd075e",
   "metadata": {},
   "outputs": [],
   "source": [
    "df.iloc[:,index_bool].head() # Indexing with boolean list"
   ]
  },
  {
   "cell_type": "markdown",
   "id": "ed69b886",
   "metadata": {},
   "source": [
    "### Selection by conditions"
   ]
  },
  {
   "cell_type": "code",
   "execution_count": null,
   "id": "31b4f15c",
   "metadata": {},
   "outputs": [],
   "source": [
    "# Lets only look at rows who 'BMXWAIST' is larger than the median\n",
    "waist_median = pd.Series.median(df_BMX['BMXWAIST']) # get the median of 'BMXWAIST'"
   ]
  },
  {
   "cell_type": "code",
   "execution_count": null,
   "id": "0425c80e",
   "metadata": {},
   "outputs": [],
   "source": [
    "waist_median"
   ]
  },
  {
   "cell_type": "code",
   "execution_count": null,
   "id": "831f9215",
   "metadata": {},
   "outputs": [],
   "source": [
    "df_BMX[df_BMX['BMXWAIST'] > waist_median].head()"
   ]
  },
  {
   "cell_type": "code",
   "execution_count": null,
   "id": "63cc5734",
   "metadata": {},
   "outputs": [],
   "source": [
    "# Lets add another condition, that 'BMXLEG' must be less than 32\n",
    "condition1 = df_BMX['BMXWAIST'] > waist_median\n",
    "condition2 = df_BMX['BMXLEG'] < 32\n",
    "df_BMX[condition1 & condition2].head() # Using [] method\n",
    "# Note: can't use 'and' instead of '&'"
   ]
  },
  {
   "cell_type": "code",
   "execution_count": null,
   "id": "b9aad68d",
   "metadata": {},
   "outputs": [],
   "source": [
    "df_BMX.loc[condition1 & condition2, :].head() # Using df.loc[] method\n",
    "# note that the conditiona are describing the rows to keep"
   ]
  },
  {
   "cell_type": "code",
   "execution_count": null,
   "id": "08afa84a",
   "metadata": {},
   "outputs": [],
   "source": [
    "# Lets make a small dataframe and give it a new index so can more clearly see the differences between .loc and .iloc\n",
    "tmp = df_BMX.loc[condition1 & condition2, :].head()\n",
    "tmp.index = ['a', 'b', 'c', 'd', 'e'] # If you use different years than 2015-2016, this my give an error. Why?\n",
    "tmp"
   ]
  },
  {
   "cell_type": "code",
   "execution_count": null,
   "id": "a2e04c91",
   "metadata": {},
   "outputs": [],
   "source": [
    "tmp.loc[['a', 'b'],'BMXLEG']"
   ]
  },
  {
   "cell_type": "code",
   "execution_count": null,
   "id": "d21b4c05",
   "metadata": {},
   "outputs": [],
   "source": [
    "tmp.iloc[[0, 1],3]"
   ]
  },
  {
   "cell_type": "markdown",
   "id": "092f057b",
   "metadata": {},
   "source": [
    "### Common errors and how to read them"
   ]
  },
  {
   "cell_type": "code",
   "execution_count": null,
   "id": "5132cf52",
   "metadata": {},
   "outputs": [],
   "source": [
    "tmp[:, 'BMXBMI'] "
   ]
  },
  {
   "cell_type": "markdown",
   "id": "d3880434",
   "metadata": {},
   "source": [
    "### Problem\n",
    "The above gives: TypeError: unhashable type: 'slice' \n",
    "\n",
    "The [ ] method uses hashes to identify the columns to keep, and each column has an associated hash. A 'slice' (a subset of rows and columns) does not have an associated hash, thus causing this TypeError."
   ]
  },
  {
   "cell_type": "code",
   "execution_count": null,
   "id": "63b00c0b",
   "metadata": {},
   "outputs": [],
   "source": [
    "tmp.loc[:, 'BMXBMI']"
   ]
  },
  {
   "cell_type": "code",
   "execution_count": null,
   "id": "0db06980",
   "metadata": {},
   "outputs": [],
   "source": [
    "tmp.loc[:, 'BMXBMI'].values"
   ]
  },
  {
   "cell_type": "code",
   "execution_count": null,
   "id": "de7e6e37",
   "metadata": {},
   "outputs": [],
   "source": [
    "tmp.iloc[:, 'BMXBMI']"
   ]
  },
  {
   "cell_type": "markdown",
   "id": "0a96f734",
   "metadata": {},
   "source": [
    "### Problem\n",
    "The above gives: ValueError: Location based indexing can only have [integer, integer slice (START point is INCLUDED, END point is EXCLUDED), listlike of integers, boolean array] types\n",
    "\n",
    "'BMXBMI' is not an integer that is less than or equal number of columns -1, or a list of boolean values, so it is the wrong value type. "
   ]
  },
  {
   "cell_type": "code",
   "execution_count": null,
   "id": "32a42771",
   "metadata": {},
   "outputs": [],
   "source": [
    "tmp.iloc[:, 2]"
   ]
  },
  {
   "cell_type": "code",
   "execution_count": null,
   "id": "c146f712",
   "metadata": {},
   "outputs": [],
   "source": [
    "tmp.loc[:, 2]"
   ]
  },
  {
   "cell_type": "markdown",
   "id": "65be0d51",
   "metadata": {},
   "source": [
    "### Problem\n",
    "The above code gives: ```TypeError: cannot do label indexing on <class 'pandas.core.indexes.base.Index'> with these indexers [2] of <class 'int'>```\n",
    "\n",
    "2 is not one of the labels (i.e. column names) in the dataframe"
   ]
  },
  {
   "cell_type": "code",
   "execution_count": null,
   "id": "8b494033",
   "metadata": {},
   "outputs": [],
   "source": [
    "# Here is another example of using a boolean list for indexing columns\n",
    "tmp.loc[:, [False, False, True] +[False]*4]"
   ]
  },
  {
   "cell_type": "code",
   "execution_count": null,
   "id": "369be98f",
   "metadata": {},
   "outputs": [],
   "source": [
    "tmp.iloc[:, 2]"
   ]
  },
  {
   "cell_type": "code",
   "execution_count": null,
   "id": "4fc112e6",
   "metadata": {},
   "outputs": [],
   "source": [
    "# We can use the .loc and .iloc methods to change values within the dataframe\n",
    "tmp.iloc[0:3,2] = [0]*3\n",
    "tmp.iloc[:,2]"
   ]
  },
  {
   "cell_type": "code",
   "execution_count": null,
   "id": "aca4a33d",
   "metadata": {},
   "outputs": [],
   "source": [
    "tmp.loc['a':'c','BMXBMI'] = [1]*3\n",
    "tmp.loc[:,'BMXBMI']"
   ]
  },
  {
   "cell_type": "code",
   "execution_count": null,
   "id": "bafd0137",
   "metadata": {},
   "outputs": [],
   "source": [
    "# We can use the [] method when changing all the values of a column\n",
    "tmp['BMXBMI'] = range(0, 5)\n",
    "tmp"
   ]
  },
  {
   "cell_type": "code",
   "execution_count": null,
   "id": "dca1ce77",
   "metadata": {},
   "outputs": [],
   "source": [
    "# We will get a warning when using the [] method with conditions to set new values in our dataframe\n",
    "tmp[tmp.BMXBMI > 2]['BMXBMI'] = [10]*2 # Setting new values to a copy of tmp, but not tmp itself\n",
    "tmp\n",
    "# You can see that the above code did not change our dataframe 'tmp'. This"
   ]
  },
  {
   "cell_type": "code",
   "execution_count": null,
   "id": "aa07d5af",
   "metadata": {},
   "outputs": [],
   "source": [
    "# The correct way to do the above is with .loc or .iloc\n",
    "tmp.loc[tmp.BMXBMI > 2, 'BMXBMI']  = [10]*2\n",
    "tmp # Now contains the chances"
   ]
  }
 ],
 "metadata": {
  "kernelspec": {
   "display_name": "Python 3 (ipykernel)",
   "language": "python",
   "name": "python3"
  },
  "language_info": {
   "codemirror_mode": {
    "name": "ipython",
    "version": 3
   },
   "file_extension": ".py",
   "mimetype": "text/x-python",
   "name": "python",
   "nbconvert_exporter": "python",
   "pygments_lexer": "ipython3",
   "version": "3.9.5"
  }
 },
 "nbformat": 4,
 "nbformat_minor": 5
}
